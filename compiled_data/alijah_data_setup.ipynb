{
 "cells": [
  {
   "cell_type": "code",
   "execution_count": 1,
   "metadata": {},
   "outputs": [],
   "source": [
    "import pandas as pd\n",
    "import numpy as np\n",
    "import matplotlib.pyplot as plt\n",
    "import seaborn as sns"
   ]
  },
  {
   "cell_type": "code",
   "execution_count": 2,
   "metadata": {},
   "outputs": [],
   "source": [
    "def visualize(data, x, y):\n",
    "    fig, axes = plt.subplots(nrows=2, ncols=2, figsize=(15,10))\n",
    "    sns.stripplot(x, y, data=data, jitter=True, size=4, ax=axes[0][0])\n",
    "    sns.factorplot(x=x, y=y, data=data, kind='bar', ax=axes[0][1], sharex=False, sharey=False, legend=False)\n",
    "    data.boxplot(column=y, by=x, ax=axes[1][0])\n",
    "    sns.violinplot(x=x, y=y, data=data, ax=axes[1][1])\n",
    "    \n",
    "    # Remove the extra plot that factorplot draws\n",
    "    plt.close(2)\n",
    "    plt.show()"
   ]
  },
  {
   "cell_type": "code",
   "execution_count": 3,
   "metadata": {},
   "outputs": [],
   "source": [
    "curr_health = pd.read_csv('../2015-2016_nhanes_raw/questionnaire/current_health.csv',\n",
    "                         usecols=['SEQN', 'HSD010', 'HSQ500'])\n",
    "\n",
    "sex_hormones = pd.read_csv('../2015-2016_nhanes_raw/laboratory/sex_steroid_hormone.csv',\n",
    "                          usecols=['SEQN', 'LBXTST', 'LBXEST', 'LBXSHBG'])\n",
    "\n",
    "biochem_profile = pd.read_csv('../2015-2016_nhanes_raw/laboratory/standard_biochem_profile.csv',\n",
    "                             usecols=['SEQN', 'LBXSBU', 'LBXSC3SI', 'LBXSCA',\n",
    "                                      'LBXSCH', 'LBXSCLSI', 'LBXSGL',\n",
    "                                      'LBXSIR', 'LBXSKSI', 'LBXSNASI', \n",
    "                                      'LBXSTP', 'LBXSTR', 'LBXSUA'])\n",
    "\n",
    "glycohemoglobin = pd.read_csv('../2015-2016_nhanes_raw/laboratory/glycohemoglobin.csv')"
   ]
  },
  {
   "cell_type": "code",
   "execution_count": 4,
   "metadata": {},
   "outputs": [
    {
     "data": {
      "text/plain": [
       "3.0    2493\n",
       "2.0    1652\n",
       "4.0    1212\n",
       "1.0     606\n",
       "5.0     203\n",
       "Name: HSD010, dtype: int64"
      ]
     },
     "metadata": {},
     "output_type": "display_data"
    }
   ],
   "source": [
    "display(curr_health.HSD010.value_counts())"
   ]
  },
  {
   "cell_type": "code",
   "execution_count": 6,
   "metadata": {},
   "outputs": [],
   "source": [
    "joined_a = curr_health\n",
    "joined_b = pd.merge(joined_a, sex_hormones, on='SEQN')\n",
    "joined_c = pd.merge(joined_b, glycohemoglobin, on='SEQN')\n",
    "joined = pd.merge(joined_c, biochem_profile, on='SEQN')"
   ]
  },
  {
   "cell_type": "code",
   "execution_count": 7,
   "metadata": {},
   "outputs": [
    {
     "name": "stdout",
     "output_type": "stream",
     "text": [
      "<class 'pandas.core.frame.DataFrame'>\n",
      "Int64Index: 6744 entries, 0 to 6743\n",
      "Data columns (total 19 columns):\n",
      "SEQN        6744 non-null float64\n",
      "HSD010      6166 non-null float64\n",
      "HSQ500      6166 non-null float64\n",
      "LBXTST      6235 non-null float64\n",
      "LBXEST      6186 non-null float64\n",
      "LBXSHBG     6039 non-null float64\n",
      "LBXGH       6326 non-null float64\n",
      "LBXSBU      6255 non-null float64\n",
      "LBXSC3SI    6257 non-null float64\n",
      "LBXSCA      6257 non-null float64\n",
      "LBXSCH      6254 non-null float64\n",
      "LBXSCLSI    6257 non-null float64\n",
      "LBXSGL      6257 non-null float64\n",
      "LBXSIR      6253 non-null float64\n",
      "LBXSKSI     6257 non-null float64\n",
      "LBXSNASI    6257 non-null float64\n",
      "LBXSTP      6253 non-null float64\n",
      "LBXSTR      6254 non-null float64\n",
      "LBXSUA      6254 non-null float64\n",
      "dtypes: float64(19)\n",
      "memory usage: 1.0 MB\n"
     ]
    }
   ],
   "source": [
    "joined.info()"
   ]
  },
  {
   "cell_type": "code",
   "execution_count": 8,
   "metadata": {},
   "outputs": [],
   "source": [
    "joined.to_csv('./alijah_compiled_raw.csv', index=False)"
   ]
  },
  {
   "cell_type": "code",
   "execution_count": null,
   "metadata": {},
   "outputs": [],
   "source": [
    "display(joined.groupby('HSD010').mean())\n",
    "print('\\n')\n",
    "joined.groupby('HSD010').std()"
   ]
  },
  {
   "cell_type": "code",
   "execution_count": null,
   "metadata": {},
   "outputs": [],
   "source": [
    "display(joined.groupby('happiness_3').mean())\n",
    "print('\\n')\n",
    "joined.groupby('happiness_3').std()"
   ]
  },
  {
   "cell_type": "code",
   "execution_count": null,
   "metadata": {},
   "outputs": [],
   "source": [
    "display(joined.corr()['HSD010'][2:])\n",
    "(joined.corr()['HSD010'][2:]).plot.bar()"
   ]
  },
  {
   "cell_type": "code",
   "execution_count": null,
   "metadata": {},
   "outputs": [],
   "source": [
    "display(joined.corr()['happiness_3'][4:])\n",
    "(joined.corr()['happiness_3'][4:]).plot.bar()"
   ]
  },
  {
   "cell_type": "code",
   "execution_count": null,
   "metadata": {},
   "outputs": [],
   "source": [
    "visualize(joined, 'happiness_3', 'LBXGH')"
   ]
  },
  {
   "cell_type": "code",
   "execution_count": null,
   "metadata": {},
   "outputs": [],
   "source": [
    "visualize(joined, 'happiness_3', 'LBXSIR')"
   ]
  },
  {
   "cell_type": "code",
   "execution_count": null,
   "metadata": {},
   "outputs": [],
   "source": [
    "visualize(joined, 'HSD010', 'LBXSBU')"
   ]
  },
  {
   "cell_type": "code",
   "execution_count": null,
   "metadata": {},
   "outputs": [],
   "source": [
    "visualize(joined, 'happiness_3', 'LBXEST')"
   ]
  },
  {
   "cell_type": "code",
   "execution_count": null,
   "metadata": {},
   "outputs": [],
   "source": [
    "visualize(joined, 'HSD010', 'LBXSTR')"
   ]
  },
  {
   "cell_type": "code",
   "execution_count": null,
   "metadata": {},
   "outputs": [],
   "source": [
    "visualize(joined, 'HSD010', 'LBXSTR')"
   ]
  },
  {
   "cell_type": "code",
   "execution_count": null,
   "metadata": {},
   "outputs": [],
   "source": [
    "visualize(joined, 'HSD010', 'BMXBMI')"
   ]
  },
  {
   "cell_type": "code",
   "execution_count": null,
   "metadata": {},
   "outputs": [],
   "source": []
  }
 ],
 "metadata": {
  "kernelspec": {
   "display_name": "Python 3",
   "language": "python",
   "name": "python3"
  },
  "language_info": {
   "codemirror_mode": {
    "name": "ipython",
    "version": 3
   },
   "file_extension": ".py",
   "mimetype": "text/x-python",
   "name": "python",
   "nbconvert_exporter": "python",
   "pygments_lexer": "ipython3",
   "version": "3.6.4"
  }
 },
 "nbformat": 4,
 "nbformat_minor": 2
}

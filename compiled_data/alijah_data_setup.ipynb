{
 "cells": [
  {
   "cell_type": "code",
   "execution_count": 1,
   "metadata": {},
   "outputs": [],
   "source": [
    "import pandas as pd\n",
    "import numpy as np\n",
    "import matplotlib.pyplot as plt\n",
    "import seaborn as sns"
   ]
  },
  {
   "cell_type": "code",
   "execution_count": 2,
   "metadata": {},
   "outputs": [],
   "source": [
    "curr_health = pd.read_csv('../2015-2016_nhanes_raw/questionnaire/current_health.csv',\n",
    "                         usecols=['SEQN', 'HSD010'])\n",
    "\n",
    "sex_hormones = pd.read_csv('../2015-2016_nhanes_raw/laboratory/sex_steroid_hormone.csv',\n",
    "                          usecols=['SEQN', 'LBXTST', 'LBXEST', 'LBXSHBG'])\n",
    "\n",
    "biochem_profile = pd.read_csv('../2015-2016_nhanes_raw/laboratory/standard_biochem_profile.csv',\n",
    "                             usecols=['SEQN', 'LBXSBU', 'LBXSC3SI', 'LBXSCA',\n",
    "                                      'LBXSCH', 'LBXSCLSI', 'LBXSGL',\n",
    "                                      'LBXSIR', 'LBXSKSI', 'LBXSNASI', \n",
    "                                      'LBXSTP', 'LBXSTR', 'LBXSUA'])\n",
    "\n",
    "glycohemoglobin = pd.read_csv('../2015-2016_nhanes_raw/laboratory/glycohemoglobin.csv')"
   ]
  },
  {
   "cell_type": "code",
   "execution_count": 3,
   "metadata": {},
   "outputs": [],
   "source": [
    "joined_a = curr_health\n",
    "joined_b = pd.merge(joined_a, sex_hormones, on='SEQN')\n",
    "joined_c = pd.merge(joined_b, glycohemoglobin, on='SEQN')\n",
    "joined = pd.merge(joined_c, biochem_profile, on='SEQN')"
   ]
  },
  {
   "cell_type": "code",
   "execution_count": 4,
   "metadata": {},
   "outputs": [
    {
     "name": "stdout",
     "output_type": "stream",
     "text": [
      "<class 'pandas.core.frame.DataFrame'>\n",
      "Int64Index: 6744 entries, 0 to 6743\n",
      "Data columns (total 18 columns):\n",
      "SEQN        6744 non-null float64\n",
      "HSD010      6166 non-null float64\n",
      "LBXTST      6235 non-null float64\n",
      "LBXEST      6186 non-null float64\n",
      "LBXSHBG     6039 non-null float64\n",
      "LBXGH       6326 non-null float64\n",
      "LBXSBU      6255 non-null float64\n",
      "LBXSC3SI    6257 non-null float64\n",
      "LBXSCA      6257 non-null float64\n",
      "LBXSCH      6254 non-null float64\n",
      "LBXSCLSI    6257 non-null float64\n",
      "LBXSGL      6257 non-null float64\n",
      "LBXSIR      6253 non-null float64\n",
      "LBXSKSI     6257 non-null float64\n",
      "LBXSNASI    6257 non-null float64\n",
      "LBXSTP      6253 non-null float64\n",
      "LBXSTR      6254 non-null float64\n",
      "LBXSUA      6254 non-null float64\n",
      "dtypes: float64(18)\n",
      "memory usage: 1001.1 KB\n"
     ]
    }
   ],
   "source": [
    "joined.info()"
   ]
  },
  {
   "cell_type": "code",
   "execution_count": 5,
   "metadata": {},
   "outputs": [],
   "source": [
    "joined.to_csv('./alijah_compiled_raw.csv', index=False)"
   ]
  }
 ],
 "metadata": {
  "kernelspec": {
   "display_name": "Python 3",
   "language": "python",
   "name": "python3"
  },
  "language_info": {
   "codemirror_mode": {
    "name": "ipython",
    "version": 3
   },
   "file_extension": ".py",
   "mimetype": "text/x-python",
   "name": "python",
   "nbconvert_exporter": "python",
   "pygments_lexer": "ipython3",
   "version": "3.6.4"
  }
 },
 "nbformat": 4,
 "nbformat_minor": 2
}

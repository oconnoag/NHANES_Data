{
 "cells": [
  {
   "cell_type": "code",
   "execution_count": 1,
   "metadata": {},
   "outputs": [],
   "source": [
    "import pandas as pd\n",
    "import numpy as np\n",
    "import matplotlib.pyplot as plt\n",
    "import seaborn as sns"
   ]
  },
  {
   "cell_type": "code",
   "execution_count": 2,
   "metadata": {},
   "outputs": [],
   "source": [
    "curr_health = pd.read_csv('../2015-2016_nhanes_raw/questionnaire/current_health.csv',\n",
    "                         usecols=['SEQN', 'HSD010'])\n",
    "\n",
    "demographics = pd.read_csv('../2015-2016_nhanes_raw/demographics/demographics.csv', \n",
    "                          usecols=['SEQN', 'RIDAGEYR', 'DMDHHSIZ', 'INDHHIN2'])\n",
    "\n",
    "diet_and_behavior = pd.read_csv('../2015-2016_nhanes_raw/questionnaire/diet_and_behavior.csv',\n",
    "                               usecols=['SEQN', 'DBQ700', 'DBD900', 'DBD910'])\n",
    "\n",
    "physical_activity = pd.read_csv('../2015-2016_nhanes_raw/questionnaire/physical_activity.csv',\n",
    "                               usecols=['SEQN', 'PAQ635', 'PAQ650', 'PAD680'])"
   ]
  },
  {
   "cell_type": "code",
   "execution_count": 3,
   "metadata": {},
   "outputs": [],
   "source": [
    "joined_a = curr_health\n",
    "joined_b = pd.merge(joined_a, demographics, on='SEQN')\n",
    "joined_c = pd.merge(joined_b, diet_and_behavior, on='SEQN')\n",
    "joined = pd.merge(joined_c, physical_activity, on='SEQN')"
   ]
  },
  {
   "cell_type": "code",
   "execution_count": 4,
   "metadata": {},
   "outputs": [
    {
     "name": "stdout",
     "output_type": "stream",
     "text": [
      "<class 'pandas.core.frame.DataFrame'>\n",
      "Int64Index: 8887 entries, 0 to 8886\n",
      "Data columns (total 11 columns):\n",
      "SEQN        8887 non-null float64\n",
      "HSD010      6166 non-null float64\n",
      "RIDAGEYR    8887 non-null float64\n",
      "DMDHHSIZ    8887 non-null float64\n",
      "INDHHIN2    8618 non-null float64\n",
      "DBQ700      6063 non-null float64\n",
      "DBD900      6757 non-null float64\n",
      "DBD910      8821 non-null float64\n",
      "PAQ635      6701 non-null float64\n",
      "PAQ650      6699 non-null float64\n",
      "PAD680      6687 non-null float64\n",
      "dtypes: float64(11)\n",
      "memory usage: 833.2 KB\n"
     ]
    }
   ],
   "source": [
    "joined.info()"
   ]
  },
  {
   "cell_type": "code",
   "execution_count": 5,
   "metadata": {},
   "outputs": [],
   "source": [
    "joined.to_csv('./flor_compiled_raw.csv', index=False)"
   ]
  },
  {
   "cell_type": "code",
   "execution_count": null,
   "metadata": {},
   "outputs": [],
   "source": []
  }
 ],
 "metadata": {
  "kernelspec": {
   "display_name": "Python 3",
   "language": "python",
   "name": "python3"
  },
  "language_info": {
   "codemirror_mode": {
    "name": "ipython",
    "version": 3
   },
   "file_extension": ".py",
   "mimetype": "text/x-python",
   "name": "python",
   "nbconvert_exporter": "python",
   "pygments_lexer": "ipython3",
   "version": "3.6.4"
  }
 },
 "nbformat": 4,
 "nbformat_minor": 2
}
